{
  "nbformat": 4,
  "nbformat_minor": 0,
  "metadata": {
    "colab": {
      "provenance": []
    },
    "kernelspec": {
      "name": "python3",
      "display_name": "Python 3"
    },
    "language_info": {
      "name": "python"
    }
  },
  "cells": [
    {
      "cell_type": "markdown",
      "source": [
        "Task 1: Double the Number\n",
        "\n",
        "*  Write a Python function named double_number that takes a number as input and returns the double of the number."
      ],
      "metadata": {
        "id": "rUYZxfTTeu3Q"
      }
    },
    {
      "cell_type": "code",
      "execution_count": null,
      "metadata": {
        "colab": {
          "base_uri": "https://localhost:8080/"
        },
        "id": "BRj70djGej9c",
        "outputId": "988ed744-dd67-4740-de88-049b7d694615"
      },
      "outputs": [
        {
          "output_type": "stream",
          "name": "stdout",
          "text": [
            "Please input a number: 7\n",
            "Doubled number: 14.0\n"
          ]
        }
      ],
      "source": [
        "def double_number(number):\n",
        "    \"\"\"\n",
        "    Function to double the given number.\n",
        "    \"\"\"\n",
        "    return 2 * number\n",
        "\n",
        "# Prompt user to input a number (converted to float for decimal support)\n",
        "number = float(input('Please input a number: '))\n",
        "\n",
        "# Call the function to double the number\n",
        "result = double_number(number)\n",
        "\n",
        "# Print the doubled number\n",
        "print(\"Doubled number:\", result)"
      ]
    },
    {
      "cell_type": "markdown",
      "source": [
        "Task 2: Count Characters\n",
        "\n",
        "*  Create a Python function named count_characters that takes a string as input and returns the number of characters in the string."
      ],
      "metadata": {
        "id": "h0G2vDnB1YxI"
      }
    },
    {
      "cell_type": "code",
      "source": [
        "def count_characters(text):\n",
        "    \"\"\"\n",
        "    Function to count the number of characters in a given string.\n",
        "\n",
        "    Parameters:\n",
        "    text (str): The input string.\n",
        "\n",
        "    Returns:\n",
        "    int: The number of characters in the string.\n",
        "    \"\"\"\n",
        "    # Use the built-in len() function to count characters\n",
        "    return len(text)\n",
        "\n",
        "# Prompt the user to enter a string\n",
        "user_input = input(\"Enter a string: \")\n",
        "\n",
        "# Call the function and store the result\n",
        "character_count = count_characters(user_input)\n",
        "\n",
        "# Print the number of characters\n",
        "print(\"Number of characters:\", character_count)"
      ],
      "metadata": {
        "colab": {
          "base_uri": "https://localhost:8080/"
        },
        "id": "DjjKSBp21b5m",
        "outputId": "801c813d-39bb-4722-c0d9-ca43fa650894"
      },
      "execution_count": null,
      "outputs": [
        {
          "output_type": "stream",
          "name": "stdout",
          "text": [
            "Enter a string: love\n",
            "Number of characters: 4\n"
          ]
        }
      ]
    },
    {
      "cell_type": "markdown",
      "source": [
        "Task 3: Check for Evenness\n",
        "\n",
        "*  Define a Python function called is_even that takes a number as input and returns True if the number is even, or False otherwise."
      ],
      "metadata": {
        "id": "88tqMIfj12sO"
      }
    },
    {
      "cell_type": "code",
      "source": [
        "def is_even(number):\n",
        "    \"\"\"\n",
        "    Function to check if a number is even.\n",
        "\n",
        "    Parameters:\n",
        "    number (int): The number to check.\n",
        "\n",
        "    Returns:\n",
        "    bool: True if the number is even, False otherwise.\n",
        "    \"\"\"\n",
        "    # An even number has no remainder when divided by 2\n",
        "    return number % 2 == 0\n",
        "\n",
        "# Prompt the user to input a number\n",
        "user_input = int(input(\"Enter a number: \"))\n",
        "\n",
        "# Call the function and print the result\n",
        "print(\"Is the number even?\", is_even(user_input))"
      ],
      "metadata": {
        "colab": {
          "base_uri": "https://localhost:8080/"
        },
        "id": "NG2j0QfN2Cu-",
        "outputId": "8f5c2459-64d3-45bc-8a08-cd80756bc3cc"
      },
      "execution_count": null,
      "outputs": [
        {
          "output_type": "stream",
          "name": "stdout",
          "text": [
            "Enter a number: 3\n",
            "Is the number even? False\n"
          ]
        }
      ]
    },
    {
      "cell_type": "markdown",
      "source": [
        "Task 4: Find the Smaller Number\n",
        "\n",
        "*  Implement a Python function named find_smaller_number that takes two numbers as input and returns the smaller number."
      ],
      "metadata": {
        "id": "xEEVjOnU2z6x"
      }
    },
    {
      "cell_type": "code",
      "source": [
        "def find_smaller_number(num1, num2):\n",
        "    \"\"\"\n",
        "    Function to find and return the smaller of two numbers.\n",
        "\n",
        "    Parameters:\n",
        "    num1 (int or float): The first number.\n",
        "    num2 (int or float): The second number.\n",
        "\n",
        "    Returns:\n",
        "    int or float: The smaller of the two input numbers.\n",
        "    \"\"\"\n",
        "    # Use the built-in min() function to return the smaller number\n",
        "    return min(num1, num2)\n",
        "\n",
        "# Prompt the user to enter two numbers\n",
        "number1 = float(input(\"Enter the first number: \"))\n",
        "number2 = float(input(\"Enter the second number: \"))\n",
        "\n",
        "# Call the function with user inputs\n",
        "smaller = find_smaller_number(number1, number2)\n",
        "\n",
        "# Print the smaller number\n",
        "print(\"The smaller number is:\", smaller)"
      ],
      "metadata": {
        "colab": {
          "base_uri": "https://localhost:8080/"
        },
        "id": "GFnnpxqz21Xg",
        "outputId": "5ed7a0f9-7c33-42a7-cbd4-6c6ef707d6eb"
      },
      "execution_count": null,
      "outputs": [
        {
          "output_type": "stream",
          "name": "stdout",
          "text": [
            "Enter the first number: 4\n",
            "Enter the second number: 3\n",
            "The smaller number is: 3.0\n"
          ]
        }
      ]
    },
    {
      "cell_type": "markdown",
      "source": [
        "Task 5: Calculate Sum of a List\n",
        "\n",
        "*  Develop a Python function called calculate_sum that takes a list of numbers as input and returns the sum of the numbers."
      ],
      "metadata": {
        "id": "aSru2HCU3JOP"
      }
    },
    {
      "cell_type": "code",
      "source": [
        "def calculate_sum(numbers):\n",
        "    \"\"\"\n",
        "    Function to calculate the sum of numbers in a list.\n",
        "\n",
        "    Parameters:\n",
        "    numbers (list): A list of integers or floats.\n",
        "\n",
        "    Returns:\n",
        "    int or float: The sum of all the numbers in the list.\n",
        "    \"\"\"\n",
        "    # Use the built-in sum() function to add all numbers in the list\n",
        "    return sum(numbers)\n",
        "\n",
        "# Prompt user to enter numbers separated by commas\n",
        "user_input = input(\"Enter numbers separated by commas: \")\n",
        "\n",
        "# Convert the input string to a list of numbers\n",
        "number_list = [float(num.strip()) for num in user_input.split(\",\")]\n",
        "\n",
        "# Call the function\n",
        "total = calculate_sum(number_list)\n",
        "\n",
        "# Print the result\n",
        "print(\"The sum of the numbers is:\", total)"
      ],
      "metadata": {
        "colab": {
          "base_uri": "https://localhost:8080/"
        },
        "id": "qN2p7vKo3OnI",
        "outputId": "cde22faf-e8ff-440f-a018-c7ff03f03a70"
      },
      "execution_count": null,
      "outputs": [
        {
          "output_type": "stream",
          "name": "stdout",
          "text": [
            "Enter numbers separated by commas: 2,4,6,8,10,12\n",
            "The sum of the numbers is: 42.0\n"
          ]
        }
      ]
    },
    {
      "cell_type": "markdown",
      "source": [
        "Task 6: Extract Prime Numbers\n",
        "\n",
        "*  Write a Python function named prime_numbers_in_list that takes a list of numbers as input and returns a new list containing only the prime numbers from the original list."
      ],
      "metadata": {
        "id": "GPeR8G7x3n3p"
      }
    },
    {
      "cell_type": "code",
      "source": [
        "def is_prime(n):\n",
        "    \"\"\"\n",
        "    Helper function to check if a number is prime.\n",
        "\n",
        "    Parameters:\n",
        "    n (int): The number to check.\n",
        "\n",
        "    Returns:\n",
        "    bool: True if n is a prime number, False otherwise.\n",
        "    \"\"\"\n",
        "    if n <= 1:\n",
        "        return False\n",
        "    if n == 2:\n",
        "        return True\n",
        "    # Check divisibility from 2 up to the square root of n\n",
        "    for i in range(2, int(n**0.5) + 1):\n",
        "        if n % i == 0:\n",
        "            return False\n",
        "    return True\n",
        "\n",
        "def prime_numbers_in_list(numbers):\n",
        "    \"\"\"\n",
        "    Returns a list of prime numbers from the input list.\n",
        "\n",
        "    Parameters:\n",
        "    numbers (list): A list of integers.\n",
        "\n",
        "    Returns:\n",
        "    list: A new list containing only the prime numbers from the original list.\n",
        "    \"\"\"\n",
        "    # Use list comprehension to filter prime numbers\n",
        "    return [num for num in numbers if is_prime(num)]\n",
        "\n",
        "# Prompt the user to enter numbers separated by commas\n",
        "user_input = input(\"Enter a few numbers, separated by commas: \")\n",
        "\n",
        "# Convert the input string to a list of integers\n",
        "number_list = [int(num.strip()) for num in user_input.split(\",\")]\n",
        "\n",
        "# Get prime numbers from the list\n",
        "prime_list = prime_numbers_in_list(number_list)\n",
        "\n",
        "# Print the result\n",
        "print(\"Prime numbers in the list:\", prime_list)"
      ],
      "metadata": {
        "colab": {
          "base_uri": "https://localhost:8080/"
        },
        "id": "MTc2-Vq13qMm",
        "outputId": "e7d2c583-2678-47ec-f97b-7622969dcf56"
      },
      "execution_count": null,
      "outputs": [
        {
          "output_type": "stream",
          "name": "stdout",
          "text": [
            "Enter a few numbers, separated by commas: 7,8,9,10\n",
            "Prime numbers in the list: [7]\n"
          ]
        }
      ]
    },
    {
      "cell_type": "markdown",
      "source": [],
      "metadata": {
        "id": "U68g2W704GjQ"
      }
    },
    {
      "cell_type": "markdown",
      "source": [
        "Task 7: Factorial Calculation\n",
        "\n",
        "*  Create a Python function named calculate_factorial that takes a number as input and returns the factorial of that number."
      ],
      "metadata": {
        "id": "Pcuhtrlf4I1g"
      }
    },
    {
      "cell_type": "code",
      "source": [
        "def calculate_factorial(n):\n",
        "    \"\"\"\n",
        "    Function to calculate the factorial of a number.\n",
        "\n",
        "    Parameters:\n",
        "    n (int): A non-negative integer.\n",
        "\n",
        "    Returns:\n",
        "    int: The factorial of n.\n",
        "    \"\"\"\n",
        "    # Handle special case for 0! = 1\n",
        "    if n == 0:\n",
        "        return 1\n",
        "\n",
        "    factorial = 1\n",
        "    for i in range(1, n + 1):\n",
        "        factorial *= i\n",
        "    return factorial\n",
        "\n",
        "# Prompt user to enter a non-negative integer\n",
        "user_input = int(input(\"Enter a non-negative integer to calculate its factorial: \"))\n",
        "\n",
        "# Check for valid input\n",
        "if user_input < 0:\n",
        "    print(\"Factorial is not defined for negative numbers.\")\n",
        "else:\n",
        "    # Call the function and print the result\n",
        "    result = calculate_factorial(user_input)\n",
        "    print(f\"The factorial of {user_input} is: {result}\")"
      ],
      "metadata": {
        "colab": {
          "base_uri": "https://localhost:8080/"
        },
        "id": "wXuaiCio4KsA",
        "outputId": "a84c0b0d-ad4d-424c-f41e-ef20064912b0"
      },
      "execution_count": null,
      "outputs": [
        {
          "output_type": "stream",
          "name": "stdout",
          "text": [
            "Enter a non-negative integer to calculate its factorial: -10\n",
            "Factorial is not defined for negative numbers.\n"
          ]
        }
      ]
    }
  ]
}