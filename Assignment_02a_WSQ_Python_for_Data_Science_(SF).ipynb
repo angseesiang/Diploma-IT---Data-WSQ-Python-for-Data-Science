{
  "nbformat": 4,
  "nbformat_minor": 0,
  "metadata": {
    "colab": {
      "provenance": []
    },
    "kernelspec": {
      "name": "python3",
      "display_name": "Python 3"
    },
    "language_info": {
      "name": "python"
    }
  },
  "cells": [
    {
      "cell_type": "markdown",
      "source": [
        "Task 1: Convert Weights to Pounds\n",
        "\n",
        "*  Create a Python list weight_kg with weight values\n",
        "*  Convert weight_kg to numpy array np_weight_kg\n",
        "*  Convert np_weight_kg to weight in Pounds np_weight_lbs\n",
        "\n",
        "Hint: Use the conversion factor of 2.2 pounds per kilogram"
      ],
      "metadata": {
        "id": "Xyz7J4H9t_EK"
      }
    },
    {
      "cell_type": "code",
      "execution_count": null,
      "metadata": {
        "colab": {
          "base_uri": "https://localhost:8080/"
        },
        "id": "uX_XBCuqt2Ac",
        "outputId": "6cebb9ce-3225-4c8f-d42a-ef701ee686bc"
      },
      "outputs": [
        {
          "output_type": "stream",
          "name": "stdout",
          "text": [
            "Weights in KG: [ 1  2  3  4  5  6  7  8  9 10]\n",
            "Weights in LBS: [ 2.20462  4.40924  6.61386  8.81848 11.0231  13.22772 15.43234 17.63696\n",
            " 19.84158 22.0462 ]\n"
          ]
        }
      ],
      "source": [
        "import numpy as np\n",
        "\n",
        "# Step 1: Create a Python list of weights in kilograms\n",
        "weight_kg = [1,2,3,4,5,6,7,8,9,10]\n",
        "\n",
        "# Step 2: Convert the list to a NumPy array\n",
        "np_weight_kg = np.array(weight_kg)\n",
        "\n",
        "# Step 3: Convert the weight to pounds (1 kg = 2.20462 lbs)\n",
        "np_weight_lbs = np_weight_kg * 2.20462\n",
        "\n",
        "# Print results\n",
        "print(\"Weights in KG:\", np_weight_kg)\n",
        "print(\"Weights in LBS:\", np_weight_lbs)"
      ]
    },
    {
      "cell_type": "markdown",
      "source": [
        "Task 2: Calculate Mean and Median\n",
        "\n",
        "*  Write a NumPy program to calculate the mean and median of the weights in pounds. Print out the results."
      ],
      "metadata": {
        "id": "9WwXrgiCu6j-"
      }
    },
    {
      "cell_type": "code",
      "source": [
        "# Mean\n",
        "print(np_weight_lbs.mean())\n",
        "\n",
        "# Median\n",
        "print(np.median(np_weight_lbs))"
      ],
      "metadata": {
        "colab": {
          "base_uri": "https://localhost:8080/"
        },
        "id": "kHWQUn2Hu-SU",
        "outputId": "b9b77595-93fc-42fb-fc82-87a8a0b1c1a6"
      },
      "execution_count": null,
      "outputs": [
        {
          "output_type": "stream",
          "name": "stdout",
          "text": [
            "12.125409999999999\n",
            "12.125409999999999\n"
          ]
        }
      ]
    },
    {
      "cell_type": "markdown",
      "source": [
        "Task 3: Create 2D Array\n",
        "\n",
        "*  Create a NumPy array np_height_m containing the heights of individuals in meters.\n",
        "*  Combine this array with the weights in pounds np_weight_lbs to create a 2D array np_person_info where each row represents an individual's height and weight.\n",
        "*  Print the resulting 2D array."
      ],
      "metadata": {
        "id": "1AswgWlOvsmx"
      }
    },
    {
      "cell_type": "code",
      "source": [
        "import numpy as np\n",
        "\n",
        "# Heights in meters (example values)\n",
        "np_height_m = np.array([1.60, 1.65, 1.70, 1.75, 1.80])\n",
        "\n",
        "# Weights in kg\n",
        "weight_kg = [45, 50, 55, 60, 65]\n",
        "np_weight_kg = np.array(weight_kg)\n",
        "\n",
        "# Convert weights to pounds\n",
        "np_weight_lbs = np_weight_kg * 2.20462\n",
        "\n",
        "# Combine height and weight into a 2D array\n",
        "np_person_info = np.column_stack((np_height_m, np_weight_lbs))\n",
        "\n",
        "# Print the 2D array\n",
        "print(\"Height (m) and Weight (lbs):\")\n",
        "print(np_person_info)"
      ],
      "metadata": {
        "colab": {
          "base_uri": "https://localhost:8080/"
        },
        "id": "jHREoi9rvvp-",
        "outputId": "c5cb2a54-ab5e-4455-d511-d754592ab16e"
      },
      "execution_count": null,
      "outputs": [
        {
          "output_type": "stream",
          "name": "stdout",
          "text": [
            "Height (m) and Weight (lbs):\n",
            "[[  1.6     99.2079]\n",
            " [  1.65   110.231 ]\n",
            " [  1.7    121.2541]\n",
            " [  1.75   132.2772]\n",
            " [  1.8    143.3003]]\n"
          ]
        }
      ]
    },
    {
      "cell_type": "markdown",
      "source": [
        "Task 4: Calculate BMI\n",
        "\n",
        "*  Write a function that takes the 2D array np_person_info created in Task 3 as input.\n",
        "*  Calculate the Body Mass Index (BMI) for each individual as bmi_array. BMI is calculated using the formula: BMI = weight (kg) / (height (m) ** 2).\n",
        "*  Print the BMI values for each individual."
      ],
      "metadata": {
        "id": "QZxSrHm6wGnq"
      }
    },
    {
      "cell_type": "code",
      "source": [
        "import numpy as np\n",
        "\n",
        "# Heights in meters (example values)\n",
        "np_height_m = np.array([1.60, 1.65, 1.70, 1.75, 1.80])\n",
        "\n",
        "# Weights in kg\n",
        "np_weight_kg = np.array([45, 50, 55, 60, 65])\n",
        "\n",
        "# BMI calculation\n",
        "bmi = np_weight_kg / np_height_m ** 2\n",
        "bmi"
      ],
      "metadata": {
        "colab": {
          "base_uri": "https://localhost:8080/"
        },
        "id": "mBHui7v4wKWP",
        "outputId": "304ea374-2a2f-46c9-e2bd-ece7379441ee"
      },
      "execution_count": null,
      "outputs": [
        {
          "output_type": "execute_result",
          "data": {
            "text/plain": [
              "array([17.578125  , 18.36547291, 19.03114187, 19.59183673, 20.0617284 ])"
            ]
          },
          "metadata": {},
          "execution_count": 10
        }
      ]
    },
    {
      "cell_type": "markdown",
      "source": [
        "Task 5: Filter Individuals by BMI\n",
        "\n",
        "*  Write a NumPy program to append bmi_array to np_person_info\n",
        "*  Filter individuals from the resulting array who have a BMI greater than 25.\n",
        "*  Print the filtered results."
      ],
      "metadata": {
        "id": "8rSOsbKXxY-1"
      }
    },
    {
      "cell_type": "code",
      "source": [
        "# print bmi greater than 25\n",
        "print(bmi > 25)"
      ],
      "metadata": {
        "colab": {
          "base_uri": "https://localhost:8080/"
        },
        "id": "NVi31ZudxdRm",
        "outputId": "7ceddff2-d9d3-409f-dec3-75c7abd77747"
      },
      "execution_count": null,
      "outputs": [
        {
          "output_type": "stream",
          "name": "stdout",
          "text": [
            "[False False False False False]\n"
          ]
        }
      ]
    }
  ]
}