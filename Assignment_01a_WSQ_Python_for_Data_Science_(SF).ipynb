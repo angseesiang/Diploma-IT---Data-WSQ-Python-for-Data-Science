{
  "nbformat": 4,
  "nbformat_minor": 0,
  "metadata": {
    "colab": {
      "provenance": []
    },
    "kernelspec": {
      "name": "python3",
      "display_name": "Python 3"
    },
    "language_info": {
      "name": "python"
    }
  },
  "cells": [
    {
      "cell_type": "markdown",
      "source": [
        "Task 1: Variable Manipulation\n",
        "\n",
        "*  Create two variables named num1 and num2 and assign them integer values of your choice.\n",
        "*  Calculate the sum of num1 and num2 and store the result in a variable called sum_result.\n",
        "*  Print the value of sum_result."
      ],
      "metadata": {
        "id": "hbzd3ghg3NCs"
      }
    },
    {
      "cell_type": "code",
      "source": [
        "# Assign integer values to num1 and num2\n",
        "num1 = 2\n",
        "num2 = 3\n",
        "\n",
        "# Calculate the sum of num1 and num2\n",
        "sum_result = num1 + num2\n",
        "\n",
        "# Print the result with a descriptive message\n",
        "print(\"The sum of num1 and num2 is:\", sum_result)"
      ],
      "metadata": {
        "colab": {
          "base_uri": "https://localhost:8080/"
        },
        "id": "rVDOCgk53U0l",
        "outputId": "372dabb4-167c-471a-fe33-68c6ead6b5ac"
      },
      "execution_count": null,
      "outputs": [
        {
          "output_type": "stream",
          "name": "stdout",
          "text": [
            "The sum of num1 and num2 is: 5\n"
          ]
        }
      ]
    },
    {
      "cell_type": "markdown",
      "source": [
        "Task 2: Operator Exploration\n",
        "\n",
        "*  Create a variable named division and assign it the division result of num1 and num2.\n",
        "*  Create another variable named remainder and assign it the remainder when num2 is divided by num1.\n",
        "*  Print the values of division and remainder in a single line with appropriate messages."
      ],
      "metadata": {
        "id": "hMo4p2iB3jm-"
      }
    },
    {
      "cell_type": "code",
      "source": [
        "# Assign integer values to num1 and num2\n",
        "num1 = 2\n",
        "num2 = 3\n",
        "\n",
        "# Calculate the result of dividing num1 by num2\n",
        "division = num1 / num2\n",
        "\n",
        "# Calculate the remainder when num2 is divided by num1\n",
        "remainder = num2 % num1\n",
        "\n",
        "# Print both values in a single line with appropriate messages\n",
        "print(\"Division (num1 / num2):\", division, \"| Remainder (num2 % num1):\", remainder)"
      ],
      "metadata": {
        "colab": {
          "base_uri": "https://localhost:8080/"
        },
        "id": "ibp_3HjQ3qaP",
        "outputId": "2be8c29b-d6ac-4ed5-f650-0764ca52b3df"
      },
      "execution_count": null,
      "outputs": [
        {
          "output_type": "stream",
          "name": "stdout",
          "text": [
            "Division = 1.5 Remainder = 2\n"
          ]
        }
      ]
    },
    {
      "cell_type": "markdown",
      "source": [
        "Task 3: User Interaction\n",
        "\n",
        "*  Prompt the user to enter their name.\n",
        "*  Store the user's input in a variable called user_name.\n",
        "*  Print a welcome message to the user using their name."
      ],
      "metadata": {
        "id": "cI6-NU785e6d"
      }
    },
    {
      "cell_type": "code",
      "source": [
        "# Prompt the user to enter their name\n",
        "user_name = input(\"Enter your name: \")\n",
        "\n",
        "# Print a welcome message using the user's name\n",
        "print(\"Welcome,\", user_name + \"!\")"
      ],
      "metadata": {
        "colab": {
          "base_uri": "https://localhost:8080/"
        },
        "id": "-4EI_WQf4H_B",
        "outputId": "3fe7a24e-0560-4f13-9625-e35ca3d05f54"
      },
      "execution_count": null,
      "outputs": [
        {
          "output_type": "stream",
          "name": "stdout",
          "text": [
            "Please enter your name: test\n",
            "Welcome, test!\n"
          ]
        }
      ]
    },
    {
      "cell_type": "markdown",
      "source": [
        "Task 4: String Concatenation\n",
        "\n",
        "*   Create a variable called greeting and assign it the string \"Hello\".\n",
        "*   Create another variable called message and assign it the string \"Python Learner\".\n",
        "*   Concatenate greeting and message together and store the result in a variable called full_message.\n",
        "*   Print full_message."
      ],
      "metadata": {
        "id": "7nK6y4jkX-P2"
      }
    },
    {
      "cell_type": "code",
      "source": [
        "# Create a variable called greeting and assign \"Hello\"\n",
        "greeting = \"Hello\"\n",
        "\n",
        "# Create a variable called message and assign \"Python Learner\"\n",
        "message = \"Python Learner\"\n",
        "\n",
        "# Concatenate greeting and message with a space in between\n",
        "full_message = greeting + \" \" + message\n",
        "\n",
        "# Print the concatenated message\n",
        "print(full_message)"
      ],
      "metadata": {
        "colab": {
          "base_uri": "https://localhost:8080/"
        },
        "id": "QuTsPO_JYDuj",
        "outputId": "d550b701-0943-452e-a85b-e29b937a080b"
      },
      "execution_count": null,
      "outputs": [
        {
          "output_type": "stream",
          "name": "stdout",
          "text": [
            "Hello Python Learner\n"
          ]
        }
      ]
    },
    {
      "cell_type": "markdown",
      "source": [
        "Task 5: Input and Type Conversion\n",
        "\n",
        "*  Prompt the user to enter a number.\n",
        "*  Store the user's input in a variable called user_input.\n",
        "*  Print the data type of user_input.\n",
        "*  Convert user_input to a integer and store it in a variable called user_integer.\n",
        "*  Print the data type of user_integer."
      ],
      "metadata": {
        "id": "oLwAuT0qYpJM"
      }
    },
    {
      "cell_type": "code",
      "source": [
        "# Prompt the user to enter a number and store it as a string\n",
        "user_input = input(\"Enter a number: \")\n",
        "\n",
        "# Print the data type of user_input (should be <class 'str'>)\n",
        "print(\"Data type of user_input:\", type(user_input))\n",
        "\n",
        "# Convert user_input to an integer and store it in user_integer\n",
        "user_integer = int(user_input)\n",
        "\n",
        "# Print the data type of user_integer (should be <class 'int'>)\n",
        "print(\"Data type of user_integer:\", type(user_integer))"
      ],
      "metadata": {
        "colab": {
          "base_uri": "https://localhost:8080/"
        },
        "id": "Y1eMR7c7YsI6",
        "outputId": "35e87ae2-a15b-45cc-d09c-3870ac72bb85"
      },
      "execution_count": null,
      "outputs": [
        {
          "output_type": "stream",
          "name": "stdout",
          "text": [
            "Please enter a number: 1\n",
            "<class 'str'>\n",
            "<class 'int'>\n"
          ]
        }
      ]
    },
    {
      "cell_type": "code",
      "source": [],
      "metadata": {
        "id": "mL4la5-_ZNbv"
      },
      "execution_count": null,
      "outputs": []
    },
    {
      "cell_type": "markdown",
      "source": [
        "Task 6: Exponential Calculation\n",
        "\n",
        "*  Calculate the square of num1 and store the result in a variable called square_result.\n",
        "*  Calculate the cube of num2 and store the result in a variable called cube_result.\n",
        "*  Print both square_result and cube_result with appropriate messages."
      ],
      "metadata": {
        "id": "-H_o2dnVZqn8"
      }
    },
    {
      "cell_type": "code",
      "source": [
        "# Assign example values to num1 and num2\n",
        "num1 = 2\n",
        "num2 = 3\n",
        "\n",
        "# Calculate the square of num1\n",
        "square_result = num1 ** 2\n",
        "\n",
        "# Calculate the cube of num2\n",
        "cube_result = num2 ** 3\n",
        "\n",
        "# Print the results with descriptive messages\n",
        "print(\"The square of num1 is:\", square_result)\n",
        "print(\"The cube of num2 is:\", cube_result)"
      ],
      "metadata": {
        "colab": {
          "base_uri": "https://localhost:8080/"
        },
        "id": "rvjULZUjZuej",
        "outputId": "9a2b2bf4-8606-4ccc-f8ec-2282b03727de"
      },
      "execution_count": null,
      "outputs": [
        {
          "output_type": "stream",
          "name": "stdout",
          "text": [
            "The square of num1 is: 4\n",
            "The cube of num2 is: 27\n"
          ]
        }
      ]
    },
    {
      "cell_type": "markdown",
      "source": [
        "Task 7: Temperature Conversion\n",
        "\n",
        "*  Prompt the user to enter a temperature in Celsius.\n",
        "*  Convert the Celsius temperature to Fahrenheit using the formula: Fahrenheit = (Celsius * 9/5) + 32.\n",
        "*  Store the result in a variable called temperature_f.\n",
        "*  Print the value of temperature_f."
      ],
      "metadata": {
        "id": "Jcj6x5AVaQQt"
      }
    },
    {
      "cell_type": "code",
      "source": [
        "# Prompt user to enter temperature in Celsius (float to accept decimals)\n",
        "celsius = float(input(\"Enter temperature in Celsius: \"))\n",
        "\n",
        "# Convert Celsius to Fahrenheit using the formula\n",
        "temperature_f = (celsius * 9/5) + 32\n",
        "\n",
        "# Print the Fahrenheit temperature\n",
        "print(\"Temperature in Fahrenheit:\", temperature_f)"
      ],
      "metadata": {
        "colab": {
          "base_uri": "https://localhost:8080/"
        },
        "id": "_M1Yb6w0aUkd",
        "outputId": "9e255faa-57d7-452c-fb61-ed2f5521bb45"
      },
      "execution_count": null,
      "outputs": [
        {
          "output_type": "stream",
          "name": "stdout",
          "text": [
            "Enter temperature in Celsius: 36\n",
            "Temperature in Fahrenheit: 96.8\n"
          ]
        }
      ]
    }
  ]
}