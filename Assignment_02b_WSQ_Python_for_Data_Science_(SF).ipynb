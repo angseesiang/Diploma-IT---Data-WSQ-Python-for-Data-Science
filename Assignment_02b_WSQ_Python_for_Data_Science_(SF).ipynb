{
  "nbformat": 4,
  "nbformat_minor": 0,
  "metadata": {
    "colab": {
      "provenance": []
    },
    "kernelspec": {
      "name": "python3",
      "display_name": "Python 3"
    },
    "language_info": {
      "name": "python"
    }
  },
  "cells": [
    {
      "cell_type": "markdown",
      "source": [
        "Task 1: Loading the Data:\n",
        "\n",
        "*  Load the Titanic dataset into a Pandas DataFrame.\n",
        "*  Dataset: Titanic Dataset\n",
        "*  You can download dataset from here"
      ],
      "metadata": {
        "id": "1cCBNA4EhzcC"
      }
    },
    {
      "cell_type": "code",
      "execution_count": null,
      "metadata": {
        "colab": {
          "base_uri": "https://localhost:8080/"
        },
        "id": "dqYnypJPhiz4",
        "outputId": "d3d62afa-f9d3-47b5-b289-f1f9703fbbc6"
      },
      "outputs": [
        {
          "output_type": "stream",
          "name": "stdout",
          "text": [
            "             Survived  Pclass  \\\n",
            "PassengerId                     \n",
            "1                   0       3   \n",
            "2                   1       1   \n",
            "3                   1       3   \n",
            "4                   1       1   \n",
            "5                   0       3   \n",
            "...               ...     ...   \n",
            "887                 0       2   \n",
            "888                 1       1   \n",
            "889                 0       3   \n",
            "890                 1       1   \n",
            "891                 0       3   \n",
            "\n",
            "                                                          Name     Sex   Age  \\\n",
            "PassengerId                                                                    \n",
            "1                                      Braund, Mr. Owen Harris    male  22.0   \n",
            "2            Cumings, Mrs. John Bradley (Florence Briggs Th...  female  38.0   \n",
            "3                                       Heikkinen, Miss. Laina  female  26.0   \n",
            "4                 Futrelle, Mrs. Jacques Heath (Lily May Peel)  female  35.0   \n",
            "5                                     Allen, Mr. William Henry    male  35.0   \n",
            "...                                                        ...     ...   ...   \n",
            "887                                      Montvila, Rev. Juozas    male  27.0   \n",
            "888                               Graham, Miss. Margaret Edith  female  19.0   \n",
            "889                   Johnston, Miss. Catherine Helen \"Carrie\"  female   NaN   \n",
            "890                                      Behr, Mr. Karl Howell    male  26.0   \n",
            "891                                        Dooley, Mr. Patrick    male  32.0   \n",
            "\n",
            "             SibSp  Parch            Ticket     Fare Cabin Embarked  \n",
            "PassengerId                                                          \n",
            "1                1      0         A/5 21171   7.2500   NaN        S  \n",
            "2                1      0          PC 17599  71.2833   C85        C  \n",
            "3                0      0  STON/O2. 3101282   7.9250   NaN        S  \n",
            "4                1      0            113803  53.1000  C123        S  \n",
            "5                0      0            373450   8.0500   NaN        S  \n",
            "...            ...    ...               ...      ...   ...      ...  \n",
            "887              0      0            211536  13.0000   NaN        S  \n",
            "888              0      0            112053  30.0000   B42        S  \n",
            "889              1      2        W./C. 6607  23.4500   NaN        S  \n",
            "890              0      0            111369  30.0000  C148        C  \n",
            "891              0      0            370376   7.7500   NaN        Q  \n",
            "\n",
            "[891 rows x 11 columns]\n"
          ]
        }
      ],
      "source": [
        "# Import pandas\n",
        "import pandas as pd\n",
        "\n",
        "# Get the csv from github\n",
        "url = \"https://raw.githubusercontent.com/angseesiang/lithan/main/titanic.csv\"\n",
        "\n",
        "# Read the csv file\n",
        "titanic = pd.read_csv(url, index_col=0)\n",
        "print(titanic)"
      ]
    },
    {
      "cell_type": "markdown",
      "source": [
        "Task 2: Initial Exploration:\n",
        "\n",
        "*  Display the first 5 rows of the dataset to get an overview.\n",
        "*  Provide basic information about the dataset using the info() method."
      ],
      "metadata": {
        "id": "dCM8TMhTh693"
      }
    },
    {
      "cell_type": "code",
      "source": [
        "# Print the first 5 rows\n",
        "print(titanic.head().info())"
      ],
      "metadata": {
        "colab": {
          "base_uri": "https://localhost:8080/"
        },
        "id": "-VMLIgSlh9UX",
        "outputId": "a9f53109-f0e6-4f41-ee6a-679cb9c23153"
      },
      "execution_count": null,
      "outputs": [
        {
          "output_type": "stream",
          "name": "stdout",
          "text": [
            "<class 'pandas.core.frame.DataFrame'>\n",
            "Index: 5 entries, 1 to 5\n",
            "Data columns (total 11 columns):\n",
            " #   Column    Non-Null Count  Dtype  \n",
            "---  ------    --------------  -----  \n",
            " 0   Survived  5 non-null      int64  \n",
            " 1   Pclass    5 non-null      int64  \n",
            " 2   Name      5 non-null      object \n",
            " 3   Sex       5 non-null      object \n",
            " 4   Age       5 non-null      float64\n",
            " 5   SibSp     5 non-null      int64  \n",
            " 6   Parch     5 non-null      int64  \n",
            " 7   Ticket    5 non-null      object \n",
            " 8   Fare      5 non-null      float64\n",
            " 9   Cabin     2 non-null      object \n",
            " 10  Embarked  5 non-null      object \n",
            "dtypes: float64(2), int64(4), object(5)\n",
            "memory usage: 480.0+ bytes\n",
            "None\n"
          ]
        }
      ]
    },
    {
      "cell_type": "markdown",
      "source": [
        "Task 3: Handling Missing Values:\n",
        "\n",
        "*  Identify and count the number of missing values in each column.\n",
        "*  Decide on an appropriate strategy for handling missing values in at least two columns and implement it."
      ],
      "metadata": {
        "id": "2xxp2YvViXbB"
      }
    },
    {
      "cell_type": "code",
      "source": [
        "# Display missing values in each column\n",
        "missing_values = titanic.isnull().sum()\n",
        "print(\"Missing values per column:\\n\", missing_values)"
      ],
      "metadata": {
        "colab": {
          "base_uri": "https://localhost:8080/"
        },
        "id": "zLCLUzgViZmP",
        "outputId": "123ece80-dd85-431c-8ae4-668650a37655"
      },
      "execution_count": null,
      "outputs": [
        {
          "output_type": "stream",
          "name": "stdout",
          "text": [
            "Missing values per column:\n",
            " Survived      0\n",
            "Pclass        0\n",
            "Name          0\n",
            "Sex           0\n",
            "Age         177\n",
            "SibSp         0\n",
            "Parch         0\n",
            "Ticket        0\n",
            "Fare          0\n",
            "Cabin       687\n",
            "Embarked      2\n",
            "dtype: int64\n"
          ]
        }
      ]
    },
    {
      "cell_type": "markdown",
      "source": [
        "Task 4: Descriptive Statistics:\n",
        "\n",
        "*  Generate descriptive statistics for the numerical columns using the describe() method."
      ],
      "metadata": {
        "id": "O5M8WLwSjAKi"
      }
    },
    {
      "cell_type": "code",
      "source": [
        "# Generate descriptive statistics for numerical columns\n",
        "numeric_stats = titanic.describe()\n",
        "print(numeric_stats)"
      ],
      "metadata": {
        "colab": {
          "base_uri": "https://localhost:8080/"
        },
        "id": "TEox_G-mjBx_",
        "outputId": "43d0df07-e2d4-467e-e00e-bb3048286541"
      },
      "execution_count": null,
      "outputs": [
        {
          "output_type": "stream",
          "name": "stdout",
          "text": [
            "         Survived      Pclass         Age       SibSp       Parch        Fare\n",
            "count  891.000000  891.000000  714.000000  891.000000  891.000000  891.000000\n",
            "mean     0.383838    2.308642   29.699118    0.523008    0.381594   32.204208\n",
            "std      0.486592    0.836071   14.526497    1.102743    0.806057   49.693429\n",
            "min      0.000000    1.000000    0.420000    0.000000    0.000000    0.000000\n",
            "25%      0.000000    2.000000   20.125000    0.000000    0.000000    7.910400\n",
            "50%      0.000000    3.000000   28.000000    0.000000    0.000000   14.454200\n",
            "75%      1.000000    3.000000   38.000000    1.000000    0.000000   31.000000\n",
            "max      1.000000    3.000000   80.000000    8.000000    6.000000  512.329200\n"
          ]
        }
      ]
    },
    {
      "cell_type": "markdown",
      "source": [
        "Task 5: Unique Values:\n",
        "\n",
        "*  List unique values in the 'Pclass' column.\n",
        "*  Count the occurrences of each unique value in the 'Embarked' column."
      ],
      "metadata": {
        "id": "9nqhSs7ojORB"
      }
    },
    {
      "cell_type": "code",
      "source": [
        "# List unique values in 'Pclass'\n",
        "unique_pclass = titanic['Pclass'].unique()\n",
        "print(\"Unique values in 'Pclass':\", unique_pclass)"
      ],
      "metadata": {
        "colab": {
          "base_uri": "https://localhost:8080/"
        },
        "id": "JUhXjkqFjW-x",
        "outputId": "60fe6ea1-5402-43ca-9401-db278ea5d1a5"
      },
      "execution_count": null,
      "outputs": [
        {
          "output_type": "stream",
          "name": "stdout",
          "text": [
            "Unique values in 'Pclass': [3 1 2]\n"
          ]
        }
      ]
    },
    {
      "cell_type": "markdown",
      "source": [
        "Task 6: Data Manipulation:\n",
        "\n",
        "*  Create a new column named 'FamilySize' that represents the sum of 'SibSp' and 'Parch'.\n",
        "*  Drop the 'Cabin' column from the dataset."
      ],
      "metadata": {
        "id": "iItcVIqIjaKx"
      }
    },
    {
      "cell_type": "code",
      "source": [
        "# Create 'FamilySize' by summing 'SibSp' and 'Parch'\n",
        "titanic['FamilySize'] = titanic['SibSp'] + titanic['Parch']\n",
        "\n",
        "# Drop the 'Cabin' column\n",
        "titanic.drop('Cabin', axis=1, inplace=True)\n",
        "\n",
        "# Show updated DataFrame columns\n",
        "print(titanic.columns)\n",
        "\n",
        "# Preview the first few rows\n",
        "print(titanic.head())"
      ],
      "metadata": {
        "colab": {
          "base_uri": "https://localhost:8080/"
        },
        "id": "2Np7iJt-jca3",
        "outputId": "1214f79c-8bea-4ffe-a220-caa260c99963"
      },
      "execution_count": null,
      "outputs": [
        {
          "output_type": "stream",
          "name": "stdout",
          "text": [
            "Index(['Survived', 'Pclass', 'Name', 'Sex', 'Age', 'SibSp', 'Parch', 'Ticket',\n",
            "       'Fare', 'Embarked', 'FamilySize'],\n",
            "      dtype='object')\n",
            "             Survived  Pclass  \\\n",
            "PassengerId                     \n",
            "1                   0       3   \n",
            "2                   1       1   \n",
            "3                   1       3   \n",
            "4                   1       1   \n",
            "5                   0       3   \n",
            "\n",
            "                                                          Name     Sex   Age  \\\n",
            "PassengerId                                                                    \n",
            "1                                      Braund, Mr. Owen Harris    male  22.0   \n",
            "2            Cumings, Mrs. John Bradley (Florence Briggs Th...  female  38.0   \n",
            "3                                       Heikkinen, Miss. Laina  female  26.0   \n",
            "4                 Futrelle, Mrs. Jacques Heath (Lily May Peel)  female  35.0   \n",
            "5                                     Allen, Mr. William Henry    male  35.0   \n",
            "\n",
            "             SibSp  Parch            Ticket     Fare Embarked  FamilySize  \n",
            "PassengerId                                                                \n",
            "1                1      0         A/5 21171   7.2500        S           1  \n",
            "2                1      0          PC 17599  71.2833        C           1  \n",
            "3                0      0  STON/O2. 3101282   7.9250        S           0  \n",
            "4                1      0            113803  53.1000        S           1  \n",
            "5                0      0            373450   8.0500        S           0  \n"
          ]
        }
      ]
    },
    {
      "cell_type": "markdown",
      "source": [
        "Task 7: Filtering and Sorting:\n",
        "\n",
        "*  Create a new DataFrame containing only passengers with an age greater than 30.\n",
        "*  Sort the DataFrame by 'Fare' in descending order."
      ],
      "metadata": {
        "id": "GBFe7b6xlOil"
      }
    },
    {
      "cell_type": "code",
      "source": [
        "# Filter passengers with Age > 30\n",
        "age_above_30 = titanic[titanic['Age'] > 30]\n",
        "\n",
        "# Sort by 'Fare' in descending order\n",
        "age_above_30_sorted = age_above_30.sort_values(by='Fare', ascending=False)\n",
        "\n",
        "# Display the first few rows\n",
        "print(age_above_30_sorted.head())"
      ],
      "metadata": {
        "colab": {
          "base_uri": "https://localhost:8080/"
        },
        "id": "yPU1z-d-lRX0",
        "outputId": "32c104a1-00e1-4065-b12b-99ea0e78a742"
      },
      "execution_count": null,
      "outputs": [
        {
          "output_type": "stream",
          "name": "stdout",
          "text": [
            "             Survived  Pclass  \\\n",
            "PassengerId                     \n",
            "680                 1       1   \n",
            "738                 1       1   \n",
            "259                 1       1   \n",
            "439                 0       1   \n",
            "300                 1       1   \n",
            "\n",
            "                                                        Name     Sex   Age  \\\n",
            "PassengerId                                                                  \n",
            "680                       Cardeza, Mr. Thomas Drake Martinez    male  36.0   \n",
            "738                                   Lesurer, Mr. Gustave J    male  35.0   \n",
            "259                                         Ward, Miss. Anna  female  35.0   \n",
            "439                                        Fortune, Mr. Mark    male  64.0   \n",
            "300          Baxter, Mrs. James (Helene DeLaudeniere Chaput)  female  50.0   \n",
            "\n",
            "             SibSp  Parch    Ticket      Fare Embarked  FamilySize  \n",
            "PassengerId                                                         \n",
            "680              0      1  PC 17755  512.3292        C           1  \n",
            "738              0      0  PC 17755  512.3292        C           0  \n",
            "259              0      0  PC 17755  512.3292        C           0  \n",
            "439              1      4     19950  263.0000        S           5  \n",
            "300              0      1  PC 17558  247.5208        C           1  \n"
          ]
        }
      ]
    },
    {
      "cell_type": "markdown",
      "source": [
        "Task 8: Data Analysis:\n",
        "\n",
        "*  Calculate the survival rate for different passenger classes ('Pclass').\n",
        "*  Identify and display the passenger with the highest 'Fare'."
      ],
      "metadata": {
        "id": "xEbY_REmldJ8"
      }
    },
    {
      "cell_type": "code",
      "source": [
        "# Calculate survival rate by 'Pclass'\n",
        "survival_rate_by_class = titanic.groupby('Pclass')['Survived'].mean()\n",
        "print(\"Survival rate by passenger class:\\n\", survival_rate_by_class)\n",
        "\n",
        "# Get the row with the highest Fare\n",
        "highest_fare_passenger = titanic.loc[titanic['Fare'].idxmax()]\n",
        "print(\"\\nPassenger with the highest fare:\\n\", highest_fare_passenger)"
      ],
      "metadata": {
        "colab": {
          "base_uri": "https://localhost:8080/"
        },
        "id": "ozilm7JjlhzS",
        "outputId": "cab14297-b696-4e5b-847c-53de5382e85d"
      },
      "execution_count": null,
      "outputs": [
        {
          "output_type": "stream",
          "name": "stdout",
          "text": [
            "Survival rate by passenger class:\n",
            " Pclass\n",
            "1    0.629630\n",
            "2    0.472826\n",
            "3    0.242363\n",
            "Name: Survived, dtype: float64\n",
            "\n",
            "Passenger with the highest fare:\n",
            " Survived                     1\n",
            "Pclass                       1\n",
            "Name          Ward, Miss. Anna\n",
            "Sex                     female\n",
            "Age                       35.0\n",
            "SibSp                        0\n",
            "Parch                        0\n",
            "Ticket                PC 17755\n",
            "Fare                  512.3292\n",
            "Embarked                     C\n",
            "FamilySize                   0\n",
            "Name: 259, dtype: object\n"
          ]
        }
      ]
    },
    {
      "cell_type": "markdown",
      "source": [
        "Conclusion:\n",
        "\n",
        "*  Write a brief conclusion summarizing key findings and observations from the analysis."
      ],
      "metadata": {
        "id": "9SjXCU3ol22s"
      }
    },
    {
      "cell_type": "markdown",
      "source": [
        "📊 Conclusion: Titanic Dataset Analysis Summary\n",
        "\n",
        "1.   Missing Values:\n",
        "   *   Significant missing data was found in the 'Age', 'Cabin', and 'Embarked' columns.\n",
        "   *   We handled missing values by imputing the median for 'Age' and the mode for 'Embarked'. The 'Cabin' column was dropped due to a high percentage of missing entries.\n",
        "2.   Descriptive Statistics:\n",
        "   *  The average passenger age was approximately 29 years.\n",
        "   *  Fare values ranged widely, with a few high-paying passengers influencing the mean.\n",
        "   *  Most passengers had no siblings/spouses or parents/children aboard.\n",
        "3.   Feature Engineering:\n",
        "   *  A new column 'FamilySize' was created, combining 'SibSp' and 'Parch', which can help in analyzing travel group dynamics.\n",
        "4. Passenger Demographics:\n",
        "   *  Unique passenger classes were 1, 2, and 3, with most passengers in 3rd class.\n",
        "   *  Most passengers embarked from port 'S'.\n",
        "5. Subset Analysis:\n",
        "   *  A new subset of passengers over 30 years old was created and sorted by 'Fare', highlighting that older passengers often paid higher fares.\n",
        "6. Survival Rates:\n",
        "   *  1st class passengers had the highest survival rate (~63%), followed by 2nd (~47%) and 3rd (~24%). This suggests a strong class-based disparity in survival.\n",
        "7. Highest Fare:\n",
        "   *  The passenger who paid the highest fare (512.33) was in 1st class, indicating the luxury and exclusivity of accommodations at the top tier."
      ],
      "metadata": {
        "id": "JonkTUCWl4nC"
      }
    }
  ]
}